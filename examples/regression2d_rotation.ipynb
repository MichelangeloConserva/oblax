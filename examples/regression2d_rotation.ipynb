{
 "cells": [
  {
   "cell_type": "code",
   "execution_count": null,
   "metadata": {
    "collapsed": true
   },
   "outputs": [],
   "source": [
    "import matplotlib.animation as animation\n",
    "import matplotlib.pyplot as plt\n",
    "\n",
    "from oblax.environments.sequential_2d import (\n",
    "    linear_regression2d_rotation,\n",
    "    linear_regression2d_anim_update,\n",
    ")\n",
    "\n",
    "%matplotlib notebook"
   ]
  },
  {
   "cell_type": "code",
   "execution_count": null,
   "outputs": [],
   "source": [
    "seed = 42\n",
    "rad_change = 5\n",
    "batch_size = 10\n",
    "N = 100\n",
    "\n",
    "# Instantiate the environment\n",
    "env = linear_regression2d_rotation(seed, N, rad_change, batch_size)"
   ],
   "metadata": {
    "collapsed": false
   }
  },
  {
   "cell_type": "markdown",
   "source": [],
   "metadata": {
    "collapsed": false
   }
  },
  {
   "cell_type": "code",
   "execution_count": null,
   "outputs": [],
   "source": [
    "# Plot non-stationary changes\n",
    "fig = plt.figure(figsize=plt.figaspect(0.33))\n",
    "anim = animation.FuncAnimation(\n",
    "    fig, linear_regression2d_anim_update, range(0, 360, rad_change), fargs=(fig,env), interval=60\n",
    ")\n",
    "plt.show()"
   ],
   "metadata": {
    "collapsed": false
   }
  }
 ],
 "metadata": {
  "kernelspec": {
   "display_name": "Python 3",
   "language": "python",
   "name": "python3"
  },
  "language_info": {
   "codemirror_mode": {
    "name": "ipython",
    "version": 2
   },
   "file_extension": ".py",
   "mimetype": "text/x-python",
   "name": "python",
   "nbconvert_exporter": "python",
   "pygments_lexer": "ipython2",
   "version": "2.7.6"
  }
 },
 "nbformat": 4,
 "nbformat_minor": 0
}
